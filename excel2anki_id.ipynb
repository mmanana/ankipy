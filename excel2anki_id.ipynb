{
 "cells": [
  {
   "cell_type": "markdown",
   "metadata": {},
   "source": [
    "## AnkiPy\n",
    "\n",
    "Python library for creating and managing Anki decks using an excel file as database of cards\n",
    "\n",
    "Author: Mario Mañana  \n",
    "Last update: 28/8/2024\n"
   ]
  },
  {
   "cell_type": "markdown",
   "metadata": {},
   "source": [
    "packages"
   ]
  },
  {
   "cell_type": "code",
   "execution_count": 7,
   "metadata": {},
   "outputs": [],
   "source": [
    "import pandas as pd"
   ]
  },
  {
   "cell_type": "markdown",
   "metadata": {},
   "source": [
    "### Flags"
   ]
  },
  {
   "cell_type": "code",
   "execution_count": 8,
   "metadata": {},
   "outputs": [
    {
     "name": "stdout",
     "output_type": "stream",
     "text": [
      "******************************************\n",
      " Input File\n",
      "E:\\mario\\UC24\\documentacion\\uc24_anki.xlsx\n",
      "  \n",
      "Output file: E:\\mario\\UC24\\documentacion\\UC24.csv\n"
     ]
    }
   ],
   "source": [
    "# flags\n",
    "# use .- Set target: 1.- Proyecto de innovacion docente; 2.- UC24\n",
    "use = 2\n",
    "\n",
    "if use == 1: # innovación docente\n",
    "    path = 'E:\\\\mario\\trabajos2\\\\innovación_docente_2024\\\\ankipy\\\\'\n",
    "    excel_file = 'uc_tc.xlsx'\n",
    "    csv_out = 'uc_tc.csv' # default name\n",
    "elif use == 2: # uc24\n",
    "    path = 'E:\\\\mario\\\\UC24\\\\documentacion\\\\'\n",
    "    excel_file = 'uc24_anki.xlsx'\n",
    "    csv_out = 'uc24.csv'\n",
    "else: # unknown value\n",
    "    print('Set target: error. Unknown value...')\n",
    "\n",
    "\n",
    "\n",
    "baggregated = True\n",
    "boverwrite = False \n",
    "\n",
    "\n",
    "if use == 1: # innovación docente\n",
    "    #sheet_names = ['intro', 'ca', 'resolucion', 'trifasica', 'transitorio', 'cuadripolos', 'bobinas', 'filtros', 'rns']\n",
    "    sheet_names = ['intro', 'ca']\n",
    "elif use == 2: # uc24\n",
    "    sheet_names = ['eadmi', 'presupuesto', 'infraestructuras', 'LOSU', 'academico', 'CifrasUC']        # Name of the sheets to read\n",
    "    #sheet_names = ['eadmi']        # Name of the sheets to read\n",
    "    \n",
    "\n",
    "# asignatura. Set 'uc24' for UC 24  \n",
    "asignatura = 'UC24'\n",
    "\n",
    "# columns\n",
    "columns = ['slide', 'pregunta', 'imagen_frontal', 'respuesta', 'imagen_respuesta', 'r1', 'r2', 'r3', 'r4', 'r5', 'r6', 'r7', 'r8', 'r9', 'r10', 'tags','deck',asignatura] # List of columns to read\n",
    "\n",
    "subdesk_uc24 = {\n",
    "    \"1\": \"eAdministracion\",\n",
    "    \"2\": \"Presupuesto\",\n",
    "    \"3\": \"Infraestructuras\",\n",
    "    \"4\": \"LOSU\",\n",
    "    \"5\": \"Academico\",\n",
    "    \"6\": \"CifrasUC\"\n",
    "}\n",
    "\n",
    "\n",
    "csv_aggregated = asignatura + '.csv'\n",
    "\n",
    "full_excel_path = path + excel_file\n",
    "print(\"******************************************\")\n",
    "print(\" Input File\")\n",
    "print( full_excel_path)\n",
    "print(\"  \")\n",
    "\n",
    "\n",
    "if baggregated == True:\n",
    "    full_csv_output = path + csv_aggregated\n",
    "else:\n",
    "    full_csv_output = path + sheet + '_00.csv'\n",
    "print('Output file: ' + full_csv_output)"
   ]
  },
  {
   "cell_type": "code",
   "execution_count": 9,
   "metadata": {},
   "outputs": [
    {
     "name": "stdout",
     "output_type": "stream",
     "text": [
      "Subdesk                   Cards \n",
      "-----------------------------------\n",
      "eAdministracion           8     \n",
      "Presupuesto               7     \n",
      "Infraestructuras          7     \n",
      "LOSU                      4     \n",
      "Academico                 3     \n",
      "CifrasUC                  9     \n"
     ]
    }
   ],
   "source": [
    "# File header\n",
    "# More information: https://docs.ankiweb.net/importing/text-files.html \n",
    "contenido = \"\"\"#deck column:17\n",
    "#separator:Semicolon\n",
    "#notetype:Basic_Image_several_answers\n",
    "#columns:slide;pregunta;imagen_frontal;respuesta;imagen_respuesta;r1;r2;r3;r4;r5;r6;r7;r8;r9;r10;tags;deck\n",
    "#tags column:16\n",
    "#html:true\n",
    "\"\"\"\n",
    "\n",
    "# Escribir (sobrescribir si ya existe) el archivo\n",
    "with open( full_csv_output, \"w\") as archivo:\n",
    "    archivo.write(contenido)\n",
    "\n",
    "# Iterate over the sheet_names array\n",
    "firsti = True\n",
    "df_summary = pd.DataFrame(columns=['Subdesk', 'NCards'])\n",
    "\n",
    "for index, sheet in enumerate( sheet_names):\n",
    "    #print(\"-------------------\")\n",
    "    #print(\"Sheet: \" + sheet)\n",
    "    \n",
    "    \n",
    "    df = pd.read_excel( full_excel_path, sheet_name=sheet, usecols=columns, header=0, dtype=str)\n",
    "    df.columns = df.columns.astype( str)\n",
    "    \n",
    "    # remove rows which <asignatura> cell is NaN\n",
    "    df2 = df[ df[asignatura].notna()]\n",
    "    \n",
    "    # set <slide> and <deck> cells   \n",
    "    for index, row in df2.iterrows():\n",
    "        df2.at[ index, 'slide'] = sheet + '.' + str(row['slide'])\n",
    "        if use == 1:\n",
    "            df2.at[ index, 'deck'] = asignatura + '::' + 'Tema' + str(row[asignatura])  \n",
    "        elif use == 2:\n",
    "            df2.at[ index, 'deck'] = asignatura + '::' + subdesk_uc24[ row[asignatura] ]        \n",
    "        else: #unknown value\n",
    "            print('Set target: Unknown value...')    \n",
    "    \n",
    "           \n",
    "    nueva_fila = {'Subdesk': [subdesk_uc24[ row[asignatura]]], 'NCards': [len(df2)]}\n",
    "    df_nuevo = pd.DataFrame( nueva_fila)\n",
    "    df_summary = pd.concat([df_summary, df_nuevo], ignore_index=True)\n",
    "    \n",
    "        #df_nuevo = pd.DataFrame({\n",
    "        #    'Subdesk': subdesk_uc24[ row[asignatura]], \n",
    "        #    'NCards': len(df2)})\n",
    "        #df_summary = pd.concat([df_summary, df_nuevo], ignore_index=True)       \n",
    "    # remove <asignatura> column once the dataframe has been filtered   \n",
    "    dfs = df2.drop( columns=[asignatura])\n",
    "    dfs.to_csv( full_csv_output, sep=';', index=False, na_rep='  ', mode='a', header=False)\n",
    "       \n",
    "    # aggregate all sheets in a single dataframe\n",
    "    if firsti == True: \n",
    "        dfall = dfs\n",
    "        firsti = False\n",
    "    else:\n",
    "        dfall = pd.concat([dfall, dfs], ignore_index=True)\n",
    "    \n",
    "    #print(dfs)\n",
    "    \n",
    "    \n",
    "    \n",
    "# Determinar el ancho de las columnas basándote en los valores más largos\n",
    "ancho_subdesk = max(len(subdesk) for subdesk in df_summary['Subdesk']) + 10  # Ancho de la columna 'Subdesk'\n",
    "ancho_cards = max(len(str(card)) for card in df_summary['NCards']) + 5  # Ancho de la columna 'Cards'\n",
    "\n",
    "print(f\"{'Subdesk':<{ancho_subdesk}}{'Cards':<{ancho_cards}}\")\n",
    "print('-' * (ancho_subdesk + ancho_cards + 3))\n",
    "\n",
    "for subdesk, cards in zip(df_summary['Subdesk'], df_summary['NCards']):\n",
    "    print(f\"{subdesk:<{ancho_subdesk}}{cards:<{ancho_cards}}\")"
   ]
  }
 ],
 "metadata": {
  "kernelspec": {
   "display_name": "py39",
   "language": "python",
   "name": "python3"
  },
  "language_info": {
   "codemirror_mode": {
    "name": "ipython",
    "version": 3
   },
   "file_extension": ".py",
   "mimetype": "text/x-python",
   "name": "python",
   "nbconvert_exporter": "python",
   "pygments_lexer": "ipython3",
   "version": "3.9.15"
  }
 },
 "nbformat": 4,
 "nbformat_minor": 2
}
